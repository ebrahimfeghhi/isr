{
 "cells": [
  {
   "cell_type": "code",
   "execution_count": 6,
   "metadata": {},
   "outputs": [],
   "source": [
    "import wandb"
   ]
  },
  {
   "cell_type": "code",
   "execution_count": null,
   "metadata": {},
   "outputs": [],
   "source": [
    "# init model\n",
    "wandb.init(project=\"serial_recall_RNNs\", config=training_settings)\n",
    "input_size = output_size = wandb.config['num_letters'] + 1\n"
   ]
  },
  {
   "cell_type": "code",
   "execution_count": 7,
   "metadata": {},
   "outputs": [],
   "source": [
    "# generate training + testing data\n",
    "training_settings = {\n",
    "    'list_length' : 9, \n",
    "    'test_list_length': 6, \n",
    "    'num_cycles': 200000,\n",
    "    'train_batch': 1,\n",
    "    'test_size': 5000,\n",
    "    'num_letters': 10,\n",
    "    'hs': 200,\n",
    "    'lr': 0.001,\n",
    "    'stopping_criteria': .58,\n",
    "    'feedback_scaling': 1.0,\n",
    "    'opt': 'SGD',\n",
    "    'nonlin': 'sigmoid',\n",
    "    'clipping': False, \n",
    "    'clip_factor': 10}\n"
   ]
  },
  {
   "cell_type": "code",
   "execution_count": null,
   "metadata": {},
   "outputs": [],
   "source": [
    "\n",
    "\n"
   ]
  },
  {
   "cell_type": "code",
   "execution_count": null,
   "metadata": {},
   "outputs": [],
   "source": []
  }
 ],
 "metadata": {
  "kernelspec": {
   "display_name": "Python 3.8.10 64-bit",
   "language": "python",
   "name": "python3"
  },
  "language_info": {
   "codemirror_mode": {
    "name": "ipython",
    "version": 3
   },
   "file_extension": ".py",
   "mimetype": "text/x-python",
   "name": "python",
   "nbconvert_exporter": "python",
   "pygments_lexer": "ipython3",
   "version": "3.8.10"
  },
  "orig_nbformat": 4,
  "vscode": {
   "interpreter": {
    "hash": "e7370f93d1d0cde622a1f8e1c04877d8463912d04d973331ad4851f04de6915a"
   }
  }
 },
 "nbformat": 4,
 "nbformat_minor": 2
}
