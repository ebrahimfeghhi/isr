{
 "cells": [
  {
   "cell_type": "code",
   "execution_count": 10,
   "metadata": {},
   "outputs": [],
   "source": [
    "import torch \n",
    "import torch.nn as nn\n",
    "from torch.utils.data import Dataset, DataLoader\n",
    "import numpy as np\n",
    "from itertools import permutations \n",
    "import sys\n",
    "base = '/home3/ebrahim/isr/'\n",
    "sys.path.append(base)\n",
    "from model import RNN_feedback\n",
    "from sklearn.linear_model import LinearRegression, Ridge\n",
    "from sklearn.preprocessing import OneHotEncoder\n",
    "from sklearn.metrics import r2_score\n",
    "from matplotlib import pyplot as plt\n",
    "from skimage.measure import block_reduce\n",
    "from scipy.stats import pearsonr\n",
    "import pandas as pd\n",
    "import seaborn as sns\n",
    "import pickle\n"
   ]
  },
  {
   "cell_type": "code",
   "execution_count": 11,
   "metadata": {},
   "outputs": [],
   "source": [
    "class Regression_Trials(Dataset):\n",
    "\n",
    "    def __init__(self, num_letters, letters_subset, list_length):\n",
    "\n",
    "        '''\n",
    "        Dataset is composed of all possible permutations of \n",
    "        the available subset of letters (s) for the specified list length (l).\n",
    "\n",
    "        Example: If a,b, and c are the available letters, and list length is 2,\n",
    "        then the dataset will be {ab, ba, ac, ca, bc, cb}.\n",
    "\n",
    "        Length of this dataset is s! / (s-l)!. \n",
    "\n",
    "        @param num_letters: number of total letters (classes - 1) RNN was trained on\n",
    "        @param letters_subset: subset of letters used for regression analyses \n",
    "        @param list_length: length of list for regression analyses \n",
    "        '''\n",
    "        X_p = [] # store permutations \n",
    "        X_int = permutations(letters_subset, list_length)\n",
    "\n",
    "        for p in X_int:\n",
    "            X_p.append(p)\n",
    "\n",
    "        X_int = np.stack(X_p) # shape: num_permutations x list_length \n",
    "        \n",
    "        recall_cue = np.ones((X_int.shape[0], list_length+1)) * num_letters \n",
    "        self.X = torch.nn.functional.one_hot(torch.from_numpy(np.hstack((X_int, recall_cue))).to(torch.long)\n",
    "        , num_classes=num_letters+1)\n",
    "\n",
    "        end_of_list_cue = np.ones((X_int.shape[0], 1)) * num_letters\n",
    "        y_int = torch.from_numpy(np.hstack((X_int, X_int, end_of_list_cue))).to(torch.long)\n",
    "        self.y = torch.nn.functional.one_hot(y_int, num_classes=num_letters+1)\n",
    "\n",
    "        self.X_reg = np.hstack((X_int, X_int)).T\n",
    "\n",
    "    def __len__(self):\n",
    "\n",
    "        return self.X.size(0)\n",
    "\n",
    "    def __getitem__(self, idx):\n",
    "\n",
    "        return self.X[idx].to(torch.float32), self.y[idx].to(torch.float32)"
   ]
  },
  {
   "cell_type": "code",
   "execution_count": 17,
   "metadata": {},
   "outputs": [],
   "source": [
    "def inverse_sigmoid(y):\n",
    "\n",
    "    '''\n",
    "    Reverses impact of sigmoid\n",
    "    '''\n",
    "    return torch.log(y/(1-y))\n",
    "\n",
    "def regression_RNN_activity(model, dataloader, batch_size):\n",
    "\n",
    "    model.eval()\n",
    "\n",
    "    hidden_arr = []\n",
    "\n",
    "    with torch.no_grad():\n",
    "        for X, y in dataloader:\n",
    "\n",
    "            X = X.to(device)\n",
    "            y = y.to(device)\n",
    "\n",
    "            x, r, y_hat = model.init_states(batch_size, device)\n",
    "\n",
    "            for timestep in range(X.shape[1]-1):\n",
    "                y_hat, x, r = model(X[:, timestep, :], x, r, y_hat)\n",
    "                hidden_arr.append(inverse_sigmoid(r))\n",
    "            \n",
    "    return torch.stack(hidden_arr)\n"
   ]
  },
  {
   "cell_type": "code",
   "execution_count": 13,
   "metadata": {},
   "outputs": [],
   "source": [
    "letters_subset = [0,1,4,7,10,13,16,19,22,25]\n",
    "list_length = 4\n",
    "rt = Regression_Trials(26, letters_subset, list_length)\n",
    "rt_dataloader = DataLoader(rt, batch_size=len(rt), shuffle=False)"
   ]
  },
  {
   "cell_type": "code",
   "execution_count": 15,
   "metadata": {},
   "outputs": [],
   "source": [
    "device = torch.device(\"cuda:0\")\n",
    "\n",
    "# load model\n",
    "base = '/home3/ebrahim/isr/'\n",
    "path = base + 'saved_models/simulation_one_weights/run_2/'\n",
    "with open(path + 'model_settings.pkl', 'rb') as handle:\n",
    "    ms = pickle.load(handle)\n",
    "model = RNN_feedback(ms['is'], ms['hs'], ms['os'], ms['init_wrec'], ms['alpha_s'], ms['alpha_r'], 'sigmoid')\n",
    "model.load_state_dict(torch.load(path + 'final_model_weights.pth'))\n",
    "model.to(device)\n",
    "\n",
    "# obtain h2o weights\n",
    "for name, param in model.named_parameters():\n",
    "    if name == 'h2o.weight':\n",
    "        h2o_weight = param.detach().cpu().numpy()\n",
    "h2o_weight_subset = h2o_weight[letters_subset]"
   ]
  },
  {
   "cell_type": "code",
   "execution_count": 18,
   "metadata": {},
   "outputs": [],
   "source": [
    "hidden_activity = regression_RNN_activity(model, rt_dataloader, len(rt))\n",
    "hidden_activity = hidden_activity.cpu().numpy()"
   ]
  },
  {
   "cell_type": "code",
   "execution_count": 19,
   "metadata": {},
   "outputs": [
    {
     "name": "stdout",
     "output_type": "stream",
     "text": [
      "(5040, 8)\n",
      "(8, 5040, 200)\n"
     ]
    }
   ],
   "source": [
    "X = rt.X[:, 0:8, :-1].cpu().numpy().argmax(2)\n",
    "print(X.shape)\n",
    "print(hidden_activity.shape)"
   ]
  },
  {
   "cell_type": "code",
   "execution_count": 22,
   "metadata": {},
   "outputs": [
    {
     "data": {
      "image/png": "[encoded data removed]",
      "text/plain": [
       "<Figure size 432x288 with 1 Axes>"
      ]
     },
     "metadata": {
      "needs_background": "light"
     },
     "output_type": "display_data"
    }
   ],
   "source": [
    "def positional_similarity_simple(t1, t2):\n",
    "\n",
    "    # obtain input and hidden activity at time t1 and t2\n",
    "    Xt1 = X[:, t1]\n",
    "    Xt2 = X[:, t2]\n",
    "    ht1 = hidden_activity[t1]\n",
    "    ht2 = hidden_activity[t2]\n",
    "\n",
    "    # list of length number of unique letters in X\n",
    "    # for every unique letter, stores the model representations at \n",
    "    # respective times \n",
    "    item_representations_t1 = []\n",
    "    item_representations_t2 = []\n",
    "\n",
    "    # Step 1) Obtain model representation for each item at t1 and t2\n",
    "    for x in np.unique(X):\n",
    "\n",
    "        # locate all instances where a given letter occurs at t1 and t2\n",
    "        x_location_t1 = np.argwhere(Xt1 == x)\n",
    "        x_location_t2 = np.argwhere(Xt2 == x)\n",
    "\n",
    "        # append or average across these representations \n",
    "        item_representations_t1.append(np.ravel(ht1[x_location_t1]))\n",
    "        item_representations_t2.append(np.ravel(ht2[x_location_t2]))\n",
    "\n",
    "    corr_same = []\n",
    "    corr_diff = []\n",
    "\n",
    "    # Step 2) Compute similarity between item representations \n",
    "    for i, ht1 in enumerate(item_representations_t1):\n",
    "        for j, ht2 in enumerate(item_representations_t2):\n",
    "            if i == j:\n",
    "                r_same, _ = pearsonr(ht1, ht2)\n",
    "                corr_same.append(r_same)\n",
    "            else:\n",
    "                r_diff, _ = pearsonr(ht1, ht2)\n",
    "                corr_diff.append(r_diff)\n",
    "\n",
    "    return corr_same, corr_diff\n",
    "\n",
    "corr_same_avg = []\n",
    "corr_diff_avg = []\n",
    "for i in range(4):\n",
    "    corr_same, corr_diff = positional_similarity_simple(0,i)\n",
    "    corr_same_avg.append(np.mean(corr_same))\n",
    "    corr_diff_avg.append(np.mean(corr_diff))\n",
    "\n",
    "\n",
    "plt.plot(np.arange(4), corr_same_avg, marker='o', label='Same item')\n",
    "plt.plot(np.arange(4), corr_diff_avg, marker='o', label='Distinct items')\n",
    "plt.xlabel(\"Distance\", fontsize=16)\n",
    "plt.ylabel(\"Correlation\", fontsize=16)\n",
    "plt.xticks([0, 1, 2, 3])\n",
    "plt.legend()\n",
    "plt.show()\n"
   ]
  },
  {
   "cell_type": "code",
   "execution_count": 10,
   "metadata": {},
   "outputs": [],
   "source": [
    "# convert to one hot encoding \n",
    "X_reg = rt.X_reg\n",
    "enc = OneHotEncoder(sparse=False)\n",
    "X_transform = enc.fit_transform(X_reg.T)"
   ]
  },
  {
   "cell_type": "code",
   "execution_count": 128,
   "metadata": {},
   "outputs": [
    {
     "name": "stdout",
     "output_type": "stream",
     "text": [
      "(5040, 200)\n"
     ]
    }
   ],
   "source": [
    "# There should be 40 element vectors at time 1\n",
    "# relating how each letter at time 1 relates to the hidden activity\n",
    "# that means that X needs to be of shape __ x 40 \n",
    "# so that the weights are 40 x 200\n",
    "\n",
    "# right now we have 5040 lists of length 10 at time 1 \n",
    "# so previously our weight matrix was 10 x 200 \n",
    "# an element vector for each letter at time 1 \n",
    "\n",
    "# next at time 2 we have a weight matrix of 20 x 200\n",
    "# so one for each letter + for each position \n",
    "\n"
   ]
  },
  {
   "cell_type": "code",
   "execution_count": 12,
   "metadata": {},
   "outputs": [],
   "source": [
    "def compute_element_vectors(X_all, y_all, num_features, timestep, seed):\n",
    "\n",
    "    '''\n",
    "    @param X_all (numpy array): shape num_permutations x (num_features x num_timesteps)\n",
    "    @param y_all (numpy array): shape num_timesteps x num_permutations x num\n",
    "    @param num_features (int): number of features used to encode each letters\n",
    "    @param timestep (int): timestep to predict y, given X from t = 0:timestep\n",
    "    @param seed (int): seed used to initalize random number generator\n",
    "\n",
    "    Ridge regression model is fit from selected portions of X to y[timestep],\n",
    "    and columns of weights correspond to element vectors. \n",
    "    '''\n",
    "    \n",
    "    X = X_all[:, :num_features*timestep]\n",
    "    y = y_all[timestep-1]\n",
    "    \n",
    "    rng = np.random.default_rng(seed)\n",
    "    train_ind = rng.choice(X_transform.shape[0], int(X.shape[0]*.8))\n",
    "    test_ind = np.setdiff1d(np.arange(0,X.shape[0],1), train_ind) \n",
    "\n",
    "    reg = Ridge(alpha=.01).fit(X[train_ind], y[train_ind])\n",
    "    y_hat = reg.predict(X[test_ind])\n",
    "\n",
    "    r2_score_value = r2_score(y[test_ind], y_hat)\n",
    "\n",
    "    return round(r2_score_value,5), reg.coef_"
   ]
  },
  {
   "cell_type": "code",
   "execution_count": 39,
   "metadata": {},
   "outputs": [],
   "source": [
    "def partition_W(W, num_features, MA):\n",
    "    for i in range(int(W.shape[1]/num_features)):\n",
    "        MA[i].append(W[:, i*num_features:(i+1)*num_features])"
   ]
  },
  {
   "cell_type": "code",
   "execution_count": 63,
   "metadata": {},
   "outputs": [],
   "source": [
    "MA = []\n",
    "for t in [1,2,3,4,5,6,7,8]:\n",
    "    MA.append([])\n",
    "    r2_score_value, W = compute_element_vectors(X_transform, hidden_activity, len(letters_subset), t, 10)\n",
    "    partition_W(W, len(letters_subset), MA)"
   ]
  },
  {
   "cell_type": "code",
   "execution_count": 68,
   "metadata": {},
   "outputs": [
    {
     "name": "stdout",
     "output_type": "stream",
     "text": [
      "(7, 200, 10)\n"
     ]
    }
   ],
   "source": [
    "MA_t = np.stack(MA[1])\n",
    "print(MA_t.shape)\n",
    "\n",
    "cosine_sim = np.zeros((MA_t.shape[0], MA_t.shape[2]))\n",
    "for t in range(cosine_sim.shape[0]):\n",
    "        for l in range(cosine_sim.shape[1]):\n",
    "            cosine_sim[t,l] = np.dot(MA_t[t, :, l], h2o_weight_subset[l]\n",
    "            ) / (np.linalg.norm(MA_t[t, :, l]) * np.linalg.norm(h2o_weight_subset[l]))"
   ]
  },
  {
   "cell_type": "code",
   "execution_count": 77,
   "metadata": {},
   "outputs": [
    {
     "data": {
      "image/png": "[encoded data removed]",
      "text/plain": [
       "<Figure size 432x288 with 1 Axes>"
      ]
     },
     "metadata": {
      "needs_background": "light"
     },
     "output_type": "display_data"
    }
   ],
   "source": [
    "labels = ['1', '2', '3', '4']\n",
    "for p in range(list_length):\n",
    "    MA_t = np.stack(MA[p])\n",
    "    cosine_sim = np.zeros((MA_t.shape[0], MA_t.shape[2]))\n",
    "    for t in range(cosine_sim.shape[0]):\n",
    "        for l in range(cosine_sim.shape[1]):\n",
    "            cosine_sim[t,l] = np.dot(MA_t[t, :, l], h2o_weight_subset[l]\n",
    "            ) / (np.linalg.norm(MA_t[t, :, l]) * np.linalg.norm(h2o_weight_subset[l]))\n",
    "\n",
    "    plt.plot(np.arange(p+1,int(list_length*2)+1, 1), np.mean(cosine_sim, axis=1), marker='o', label=labels[p])"
   ]
  },
  {
   "cell_type": "code",
   "execution_count": 69,
   "metadata": {},
   "outputs": [
    {
     "data": {
      "text/plain": [
       "Text(0, 0.5, 'Cosine similarity')"
      ]
     },
     "execution_count": 69,
     "metadata": {},
     "output_type": "execute_result"
    },
    {
     "data": {
      "image/png": "[encoded data removed]",
      "text/plain": [
       "<Figure size 432x288 with 1 Axes>"
      ]
     },
     "metadata": {
      "needs_background": "light"
     },
     "output_type": "display_data"
    }
   ],
   "source": [
    "plt.plot(np.arange(2,9), np.mean(cosine_sim, axis=1), marker='o')\n",
    "plt.xlabel('Timestep')\n",
    "plt.ylabel('Cosine similarity')"
   ]
  },
  {
   "cell_type": "code",
   "execution_count": 123,
   "metadata": {},
   "outputs": [
    {
     "data": {
      "text/plain": [
       "Text(0.5, 1, 'Correlation between element vectors')"
      ]
     },
     "execution_count": 123,
     "metadata": {},
     "output_type": "execute_result"
    },
    {
     "data": {
      "image/png": "[encoded data removed]",
      "text/plain": [
       "<Figure size 432x288 with 2 Axes>"
      ]
     },
     "metadata": {
      "needs_background": "light"
     },
     "output_type": "display_data"
    }
   ],
   "source": [
    "df = pd.DataFrame(W)\n",
    "W_corr = df.corr(method='pearson')\n",
    "sns.heatmap(np.abs(W_corr))\n",
    "plt.title(\"Correlation between element vectors\")"
   ]
  },
  {
   "cell_type": "code",
   "execution_count": 124,
   "metadata": {},
   "outputs": [],
   "source": [
    "def figure_4_code(W_corr):\n",
    "\n",
    "    c1 = []\n",
    "    c2 = []\n",
    "    c3 = []\n",
    "\n",
    "    for i in range(10):\n",
    "        c1.append(W_corr.iloc[i, i+10])\n",
    "        c2.append(W_corr.iloc[i, i+2*10])\n",
    "        c3.append(W_corr.iloc[i, i+3*10])\n",
    "\n",
    "    c0_n = []\n",
    "    c1_n = []\n",
    "    c2_n = []\n",
    "    c3_n = []\n",
    "    for i in range(10):\n",
    "        for j in range(10):\n",
    "            if i == j:\n",
    "                continue\n",
    "            c0_n.append(W_corr.iloc[i,j])\n",
    "            c1_n.append(W_corr.iloc[i,j+10])\n",
    "            c2_n.append(W_corr.iloc[i,j+2*10])\n",
    "            c3_n.append(W_corr.iloc[i,j+3*10])\n",
    "\n",
    "    c_same_item = [c1, c2, c3]\n",
    "    c_diff_item = [c0_n, c1_n, c2_n, c3_n]\n",
    "\n",
    "    return c_same_item, c_diff_item\n",
    "\n",
    "c_same, c_diff = figure_4_code(np.abs(W_corr))"
   ]
  },
  {
   "cell_type": "code",
   "execution_count": 125,
   "metadata": {},
   "outputs": [
    {
     "data": {
      "text/plain": [
       "(4, 90)"
      ]
     },
     "execution_count": 125,
     "metadata": {},
     "output_type": "execute_result"
    }
   ],
   "source": [
    "np.stack(c_same).shape\n",
    "np.stack(c_diff).shape"
   ]
  },
  {
   "cell_type": "code",
   "execution_count": 126,
   "metadata": {},
   "outputs": [
    {
     "name": "stdout",
     "output_type": "stream",
     "text": [
      "MEAN:  0.14209696809400485\n",
      "STD:  0.09759613690206982\n",
      "MEAN:  0.11679504014246622\n",
      "STD:  0.08335401235306147\n",
      "MEAN:  0.06387526253347642\n",
      "STD:  0.05096811324490779\n",
      "MEAN:  0.0730614128854837\n",
      "STD:  0.05534234988713269\n"
     ]
    }
   ],
   "source": [
    "for c in c_diff:\n",
    "    print(\"MEAN: \", np.mean(c))\n",
    "    print(\"STD: \", np.std(c))"
   ]
  },
  {
   "cell_type": "code",
   "execution_count": null,
   "metadata": {},
   "outputs": [],
   "source": [
    "0"
   ]
  }
 ],
 "metadata": {
  "interpreter": {
   "hash": "767d51c1340bd893661ea55ea3124f6de3c7a262a8b4abca0554b478b1e2ff90"
  },
  "kernelspec": {
   "display_name": "Python 3.8.10 64-bit",
   "language": "python",
   "name": "python3"
  },
  "language_info": {
   "codemirror_mode": {
    "name": "ipython",
    "version": 3
   },
   "file_extension": ".py",
   "mimetype": "text/x-python",
   "name": "python",
   "nbconvert_exporter": "python",
   "pygments_lexer": "ipython3",
   "version": "3.8.10"
  },
  "orig_nbformat": 4
 },
 "nbformat": 4,
 "nbformat_minor": 2
}
