{
 "cells": [
  {
   "cell_type": "code",
   "execution_count": 1,
   "metadata": {},
   "outputs": [],
   "source": [
    "import matplotlib\n",
    "import torch \n",
    "import torch.nn as nn\n",
    "from torch.utils.data import Dataset, DataLoader\n",
    "import numpy as np\n",
    "from itertools import permutations \n",
    "import sys\n",
    "base = '/home3/ebrahim/isr/'\n",
    "sys.path.append(base)\n",
    "from model import RNN_feedback\n",
    "from sklearn.linear_model import LinearRegression, Ridge\n",
    "from sklearn.preprocessing import OneHotEncoder\n",
    "from sklearn.metrics import r2_score\n",
    "matplotlib.use('Agg')\n",
    "from matplotlib import pyplot as plt\n",
    "from skimage.measure import block_reduce\n",
    "from scipy.stats import pearsonr\n",
    "import pandas as pd\n",
    "import seaborn as sns\n",
    "import os"
   ]
  },
  {
   "cell_type": "code",
   "execution_count": 3,
   "metadata": {},
   "outputs": [],
   "source": [
    "class Regression_Trials(Dataset):\n",
    "\n",
    "    def __init__(self, num_letters, letters_subset, list_length):\n",
    "\n",
    "        '''\n",
    "        Dataset is composed of all possible permutations of \n",
    "        the available subset of letters (s) for the specified list length (l).\n",
    "\n",
    "        Example: If a,b, and c are the available letters, and list length is 2,\n",
    "        then the dataset will be {ab, ba, ac, ca, bc, cb}.\n",
    "\n",
    "        Number of trials generated is equal to s! / (s-l)!. \n",
    "\n",
    "        @param num_letters: number of total letters (classes - 1) RNN was trained on\n",
    "        @param letters_subset: subset of letters used for regression analyses \n",
    "        @param list_length: length of list for regression analyses \n",
    "        '''\n",
    "        \n",
    "        X_p = [] # store permutations \n",
    "        X_int = permutations(letters_subset, list_length)\n",
    "\n",
    "        for p in X_int:\n",
    "            X_p.append(p)\n",
    "\n",
    "        X_int = np.stack(X_p) # shape: num_permutations x list_length \n",
    "        \n",
    "        recall_cue = np.ones((X_int.shape[0], list_length+1)) * num_letters \n",
    "        self.X = torch.nn.functional.one_hot(torch.from_numpy(np.hstack((X_int, recall_cue))).to(torch.long)\n",
    "        , num_classes=num_letters+1)\n",
    "\n",
    "        end_of_list_cue = np.ones((X_int.shape[0], 1)) * num_letters\n",
    "        y_int = torch.from_numpy(np.hstack((X_int, X_int, end_of_list_cue))).to(torch.long)\n",
    "        self.y = torch.nn.functional.one_hot(y_int, num_classes=num_letters+1)\n",
    "\n",
    "        self.X_reg = np.hstack((X_int, X_int)).T\n",
    "\n",
    "    def __len__(self):\n",
    "\n",
    "        return self.X.size(0)\n",
    "\n",
    "    def __getitem__(self, idx):\n",
    "\n",
    "        return self.X[idx].to(torch.float32), self.y[idx].to(torch.float32)"
   ]
  },
  {
   "cell_type": "code",
   "execution_count": 4,
   "metadata": {},
   "outputs": [],
   "source": [
    "def compute_element_vectors(X, y, seed):\n",
    "\n",
    "    '''\n",
    "    @param X (numpy array): shape num_permutations x (num_features x num_timesteps)\n",
    "    @param y (numpy array): shape num_permutations x num\n",
    "    @param num_features (int): number of features used to encode each letters\n",
    "    @param timestep (int): timestep to predict y, given X from t = 0:timestep\n",
    "    @param seed (int): seed used to initalize random number generator\n",
    "\n",
    "    Ridge regression model is fit from selected portions of X to y[timestep],\n",
    "    and columns of weights correspond to element vectors. \n",
    "    '''\n",
    "    \n",
    "    rng = np.random.default_rng(seed)\n",
    "    train_ind = rng.choice(X.shape[0], int(X.shape[0]*.8))\n",
    "    test_ind = np.setdiff1d(np.arange(0,X.shape[0],1), train_ind) \n",
    "\n",
    "    reg = Ridge(alpha=.01).fit(X[train_ind], y[train_ind])\n",
    "    y_hat = reg.predict(X[test_ind])\n",
    "\n",
    "    r2_score_value = r2_score(y[test_ind], y_hat)\n",
    "\n",
    "    return round(r2_score_value,5), reg.coef_"
   ]
  },
  {
   "cell_type": "code",
   "execution_count": 152,
   "metadata": {},
   "outputs": [],
   "source": [
    "def create_synthetic_y(X_all, timesteps, num_features):\n",
    "\n",
    "    '''\n",
    "    X is a matrix of shape num_trials x (num_timesteps x num_features)\n",
    "    y should be a matrix of shape num_trials x timesteps x hidden_size\n",
    "    where y[t] gives contains information regarding the features from 0:t\n",
    "    '''\n",
    "\n",
    "    X = X_all[:, :timesteps*num_features]\n",
    "\n",
    "    # reshape X to num_trials x num_timesteps x num_features \n",
    "    X_re = X.reshape(X.shape[0], -1, num_features)\n",
    "\n",
    "    # append input at each time with a positional marker\n",
    "    # which is a vector of length timesteps that is 1 at timesteps=t and 0 elsewhere\n",
    "    X_pos = []\n",
    "    for t in range(timesteps):\n",
    "        pos_input = np.zeros(timesteps)\n",
    "        pos_input[t] = 1\n",
    "        pos_input_mat = np.tile(pos_input, X_re.shape[0]).reshape(X_re.shape[0], timesteps)\n",
    "        X_pos.append(np.hstack((X_re[:, t], pos_input_mat)))\n",
    "    X_pos = np.stack(X_pos, axis=1).reshape(X_re.shape[0], timesteps*(timesteps+num_features))\n",
    "    y_pos = np.sum(X_pos, axis=1)\n",
    "    return y_pos"
   ]
  },
  {
   "cell_type": "code",
   "execution_count": 154,
   "metadata": {},
   "outputs": [
    {
     "name": "stdout",
     "output_type": "stream",
     "text": [
      "(5040,)\n"
     ]
    }
   ],
   "source": [
    "# create permutations of specified list length with a given subset of letters\n",
    "letters_subset = [0,1,4,7,10,13,16,19,22,25]\n",
    "list_length = 4\n",
    "rt = Regression_Trials(26, letters_subset, list_length)\n",
    "rt_dataloader = DataLoader(rt, batch_size=len(rt), shuffle=False)\n",
    "\n",
    "# convert to one hot encoding, X_transform has shape num_permutations X num_features\n",
    "X_reg = rt.X_reg\n",
    "enc = OneHotEncoder(sparse=False)\n",
    "X_transform = enc.fit_transform(X_reg.T)\n",
    "\n",
    "y_pos = create_synthetic_y(X_transform, 4, 10)\n",
    "print(y_pos.shape)"
   ]
  },
  {
   "cell_type": "code",
   "execution_count": 157,
   "metadata": {},
   "outputs": [
    {
     "data": {
      "text/plain": [
       "8.0"
      ]
     },
     "execution_count": 157,
     "metadata": {},
     "output_type": "execute_result"
    }
   ],
   "source": [
    "y_pos[2]"
   ]
  },
  {
   "cell_type": "code",
   "execution_count": 80,
   "metadata": {},
   "outputs": [
    {
     "name": "stdout",
     "output_type": "stream",
     "text": [
      "[[0 1 2 3]\n",
      " [0 1 2 3]\n",
      " [0 1 2 3]\n",
      " ...\n",
      " [0 1 2 3]\n",
      " [0 1 2 3]\n",
      " [0 1 2 3]]\n"
     ]
    }
   ],
   "source": [
    "num_repeats = 5040\n",
    "a = np.asarray([0,1,2,3])\n",
    "at = np.tile(a, num_repeats).reshape(num_repeats, a.shape[0])\n",
    "print(at)"
   ]
  },
  {
   "cell_type": "code",
   "execution_count": null,
   "metadata": {},
   "outputs": [],
   "source": []
  }
 ],
 "metadata": {
  "kernelspec": {
   "display_name": "Python 3.8.10 64-bit",
   "language": "python",
   "name": "python3"
  },
  "language_info": {
   "codemirror_mode": {
    "name": "ipython",
    "version": 3
   },
   "file_extension": ".py",
   "mimetype": "text/x-python",
   "name": "python",
   "nbconvert_exporter": "python",
   "pygments_lexer": "ipython3",
   "version": "3.8.10"
  },
  "orig_nbformat": 4,
  "vscode": {
   "interpreter": {
    "hash": "e7370f93d1d0cde622a1f8e1c04877d8463912d04d973331ad4851f04de6915a"
   }
  }
 },
 "nbformat": 4,
 "nbformat_minor": 2
}
